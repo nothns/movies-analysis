{
 "cells": [
  {
   "cell_type": "markdown",
   "source": [
    "# Movie list scraper\n",
    "A scraper which uses regex to scrape all links to pages like 'https://en.wikipedia.org/wiki/List_of_\\[country\\]\\_films_of\\_\\[year\\]' from 1910 to 2022"
   ],
   "metadata": {
    "collapsed": false
   }
  },
  {
   "cell_type": "code",
   "execution_count": 2,
   "outputs": [],
   "source": [
    "import urllib.request\n",
    "import regex as re\n",
    "import pandas as pd"
   ],
   "metadata": {
    "collapsed": false
   }
  },
  {
   "cell_type": "code",
   "execution_count": 3,
   "outputs": [
    {
     "name": "stdout",
     "output_type": "stream",
     "text": [
      "Year: 1950, Found: 21\n",
      "Year: 1951, Found: 21\n",
      "Year: 1952, Found: 18\n",
      "Year: 1953, Found: 19\n",
      "Year: 1954, Found: 20\n",
      "Year: 1955, Found: 21\n",
      "Year: 1956, Found: 22\n",
      "Year: 1957, Found: 18\n",
      "Year: 1958, Found: 19\n",
      "Year: 1959, Found: 22\n",
      "Year: 1960, Found: 3\n",
      "Year: 1961, Found: 23\n",
      "Year: 1962, Found: 23\n",
      "Year: 1963, Found: 23\n",
      "Year: 1964, Found: 24\n",
      "Year: 1965, Found: 23\n",
      "Year: 1966, Found: 24\n",
      "Year: 1967, Found: 25\n",
      "Year: 1968, Found: 23\n",
      "Year: 1969, Found: 23\n",
      "Year: 1970, Found: 30\n",
      "Year: 1971, Found: 28\n",
      "Year: 1972, Found: 28\n",
      "Year: 1973, Found: 27\n",
      "Year: 1974, Found: 27\n",
      "Year: 1975, Found: 26\n",
      "Year: 1976, Found: 26\n",
      "Year: 1977, Found: 26\n",
      "Year: 1978, Found: 25\n",
      "Year: 1979, Found: 26\n",
      "Year: 1980, Found: 28\n",
      "Year: 1981, Found: 28\n",
      "Year: 1982, Found: 26\n",
      "Year: 1983, Found: 24\n",
      "Year: 1984, Found: 26\n",
      "Year: 1985, Found: 26\n",
      "Year: 1986, Found: 25\n",
      "Year: 1987, Found: 25\n",
      "Year: 1988, Found: 25\n",
      "Year: 1989, Found: 25\n",
      "Year: 1990, Found: 25\n",
      "Year: 1991, Found: 25\n",
      "Year: 1992, Found: 26\n",
      "Year: 1993, Found: 27\n",
      "Year: 1994, Found: 27\n",
      "Year: 1995, Found: 26\n",
      "Year: 1996, Found: 26\n",
      "Year: 1997, Found: 25\n",
      "Year: 1998, Found: 26\n",
      "Year: 1999, Found: 26\n",
      "Year: 2000, Found: 32\n",
      "Year: 2001, Found: 33\n",
      "Year: 2002, Found: 33\n",
      "Year: 2003, Found: 33\n",
      "Year: 2004, Found: 33\n",
      "Year: 2005, Found: 33\n",
      "Year: 2006, Found: 33\n",
      "Year: 2007, Found: 34\n",
      "Year: 2008, Found: 35\n",
      "Year: 2009, Found: 35\n",
      "Year: 2010, Found: 38\n",
      "Year: 2011, Found: 37\n",
      "Year: 2012, Found: 36\n",
      "Year: 2013, Found: 23\n",
      "Year: 2014, Found: 99\n",
      "Year: 2015, Found: 40\n",
      "Year: 2016, Found: 40\n",
      "Year: 2017, Found: 39\n",
      "Year: 2018, Found: 35\n",
      "Year: 2019, Found: 33\n",
      "Year: 2020, Found: 30\n",
      "Year: 2021, Found: 25\n",
      "Year: 2022, Found: 33\n"
     ]
    },
    {
     "data": {
      "text/plain": "{1950: ['Hindi',\n  'British',\n  'Telugu',\n  'Argentine',\n  'Italian',\n  'South_Korean',\n  'Brazilian',\n  'Egyptian',\n  'Pakistani',\n  'Soviet',\n  'Japanese',\n  'Ollywood',\n  'Marathi',\n  'Hong_Kong',\n  'American',\n  'French',\n  'Mexican',\n  'West_German',\n  'Israeli',\n  'Spanish',\n  'Tamil'],\n 1951: ['Hindi',\n  'British',\n  'Telugu',\n  'Argentine',\n  'Italian',\n  'South_Korean',\n  'Brazilian',\n  'Egyptian',\n  'Pakistani',\n  'Soviet',\n  'Japanese',\n  'Ollywood',\n  'Marathi',\n  'Hong_Kong',\n  'American',\n  'French',\n  'Mexican',\n  'West_German',\n  'Israeli',\n  'Spanish',\n  'Tamil'],\n 1952: ['Argentine',\n  'Japanese',\n  'Marathi',\n  'Italian',\n  'South_Korean',\n  'Hong_Kong',\n  'American',\n  'British',\n  'Hindi',\n  'Spanish',\n  'Tamil',\n  'French',\n  'Mexican',\n  'West_German',\n  'Egyptian',\n  'Pakistani',\n  'Telugu',\n  'Soviet'],\n 1953: ['Hindi',\n  'British',\n  'Telugu',\n  'Argentine',\n  'Italian',\n  'South_Korean',\n  'Egyptian',\n  'Pakistani',\n  'Soviet',\n  'Japanese',\n  'Ollywood',\n  'Marathi',\n  'Hong_Kong',\n  'American',\n  'French',\n  'Mexican',\n  'West_German',\n  'Spanish',\n  'Tamil'],\n 1954: ['Hindi',\n  'British',\n  'Telugu',\n  'Argentine',\n  'Italian',\n  'South_Korean',\n  'Brazilian',\n  'Egyptian',\n  'Pakistani',\n  'Soviet',\n  'Japanese',\n  'Ollywood',\n  'Marathi',\n  'Hong_Kong',\n  'American',\n  'French',\n  'Mexican',\n  'West_German',\n  'Spanish',\n  'Tamil'],\n 1955: ['Hindi',\n  'British',\n  'Telugu',\n  'Argentine',\n  'Italian',\n  'Bengali',\n  'South_Korean',\n  'Egyptian',\n  'Pakistani',\n  'Soviet',\n  'Japanese',\n  'Marathi',\n  'Hong_Kong',\n  'American',\n  'Bollywood',\n  'French',\n  'Mexican',\n  'West_German',\n  'Israeli',\n  'Spanish',\n  'Tamil'],\n 1956: ['Hindi',\n  'British',\n  'Telugu',\n  'Bangladeshi',\n  'Argentine',\n  'Italian',\n  'Bengali',\n  'South_Korean',\n  'Egyptian',\n  'Pakistani',\n  'Soviet',\n  'Japanese',\n  'Ollywood',\n  'Marathi',\n  'Hong_Kong',\n  'American',\n  'French',\n  'Mexican',\n  'West_German',\n  'Israeli',\n  'Spanish',\n  'Tamil'],\n 1957: ['Argentine',\n  'Japanese',\n  'Marathi',\n  'Italian',\n  'Bengali',\n  'South_Korean',\n  'Hong_Kong',\n  'American',\n  'British',\n  'Hindi',\n  'Spanish',\n  'Tamil',\n  'French',\n  'Mexican',\n  'Egyptian',\n  'Pakistani',\n  'Telugu',\n  'Soviet'],\n 1958: ['Hindi',\n  'British',\n  'Telugu',\n  'Argentine',\n  'Italian',\n  'Bengali',\n  'South_Korean',\n  'Egyptian',\n  'Pakistani',\n  'Soviet',\n  'Japanese',\n  'Marathi',\n  'Hong_Kong',\n  'American',\n  'French',\n  'Mexican',\n  'West_German',\n  'Spanish',\n  'Tamil'],\n 1959: ['Hindi',\n  'British',\n  'Telugu',\n  'Bangladeshi',\n  'Argentine',\n  'Italian',\n  'Bengali',\n  'South_Korean',\n  'Egyptian',\n  'Pakistani',\n  'Soviet',\n  'Japanese',\n  'Ollywood',\n  'Marathi',\n  'Hong_Kong',\n  'American',\n  'French',\n  'Mexican',\n  'West_German',\n  'Israeli',\n  'Spanish',\n  'Tamil'],\n 1960: ['Argentine', 'Japanese', 'South_Korean'],\n 1961: ['Hindi',\n  'British',\n  'Malayalam',\n  'Telugu',\n  'Bangladeshi',\n  'Argentine',\n  'Italian',\n  'Bengali',\n  'South_Korean',\n  'Egyptian',\n  'Pakistani',\n  'Soviet',\n  'Japanese',\n  'Ollywood',\n  'Marathi',\n  'Hong_Kong',\n  'American',\n  'French',\n  'Mexican',\n  'Israeli',\n  'Spanish',\n  'Tamil',\n  'Kannada'],\n 1962: ['Hindi',\n  'British',\n  'Malayalam',\n  'Telugu',\n  'Bangladeshi',\n  'Argentine',\n  'Italian',\n  'Bengali',\n  'South_Korean',\n  'Egyptian',\n  'Pakistani',\n  'Soviet',\n  'Japanese',\n  'Ollywood',\n  'Marathi',\n  'Hong_Kong',\n  'American',\n  'French',\n  'Mexican',\n  'Israeli',\n  'Spanish',\n  'Tamil',\n  'Kannada'],\n 1963: ['Hindi',\n  'British',\n  'Malayalam',\n  'Telugu',\n  'Bangladeshi',\n  'Argentine',\n  'Italian',\n  'Bengali',\n  'South_Korean',\n  'Egyptian',\n  'Pakistani',\n  'Soviet',\n  'Japanese',\n  'Ollywood',\n  'Marathi',\n  'Hong_Kong',\n  'American',\n  'French',\n  'Mexican',\n  'Israeli',\n  'Spanish',\n  'Tamil',\n  'Kannada'],\n 1964: ['Hindi',\n  'British',\n  'Malayalam',\n  'Telugu',\n  'Bangladeshi',\n  'Argentine',\n  'Italian',\n  'Bengali',\n  'South_Korean',\n  'Brazilian',\n  'Egyptian',\n  'Pakistani',\n  'Soviet',\n  'Japanese',\n  'Ollywood',\n  'Marathi',\n  'Hong_Kong',\n  'American',\n  'French',\n  'Mexican',\n  'Israeli',\n  'Spanish',\n  'Tamil',\n  'Kannada'],\n 1965: ['Hindi',\n  'British',\n  'Cambodian',\n  'Malayalam',\n  'Telugu',\n  'Bangladeshi',\n  'Argentine',\n  'Italian',\n  'South_Korean',\n  'Egyptian',\n  'Pakistani',\n  'Soviet',\n  'Japanese',\n  'Ollywood',\n  'Marathi',\n  'Hong_Kong',\n  'American',\n  'French',\n  'Mexican',\n  'Israeli',\n  'Spanish',\n  'Tamil',\n  'Kannada'],\n 1966: ['Hindi',\n  'British',\n  'Cambodian',\n  'Malayalam',\n  'Telugu',\n  'Bangladeshi',\n  'Argentine',\n  'Italian',\n  'Bengali',\n  'South_Korean',\n  'Egyptian',\n  'Pakistani',\n  'Soviet',\n  'Japanese',\n  'Ollywood',\n  'Marathi',\n  'Hong_Kong',\n  'American',\n  'French',\n  'Mexican',\n  'Israeli',\n  'Spanish',\n  'Tamil',\n  'Kannada'],\n 1967: ['Hindi',\n  'British',\n  'Cambodian',\n  'Malayalam',\n  'Telugu',\n  'Bangladeshi',\n  'Argentine',\n  'Italian',\n  'Bengali',\n  'South_Korean',\n  'Egyptian',\n  'Pakistani',\n  'Soviet',\n  'Japanese',\n  'Ollywood',\n  'Marathi',\n  'Hong_Kong',\n  'American',\n  'Bollywood',\n  'French',\n  'Mexican',\n  'Israeli',\n  'Spanish',\n  'Tamil',\n  'Kannada'],\n 1968: ['Hindi',\n  'British',\n  'Cambodian',\n  'Malayalam',\n  'Telugu',\n  'Bangladeshi',\n  'Argentine',\n  'Italian',\n  'South_Korean',\n  'Egyptian',\n  'Pakistani',\n  'Soviet',\n  'Japanese',\n  'Ollywood',\n  'Marathi',\n  'Hong_Kong',\n  'American',\n  'French',\n  'Mexican',\n  'Israeli',\n  'Spanish',\n  'Tamil',\n  'Kannada'],\n 1969: ['Hindi',\n  'British',\n  'Cambodian',\n  'Malayalam',\n  'Telugu',\n  'Bangladeshi',\n  'Argentine',\n  'Italian',\n  'South_Korean',\n  'Egyptian',\n  'Pakistani',\n  'Soviet',\n  'Japanese',\n  'Ollywood',\n  'Marathi',\n  'Hong_Kong',\n  'American',\n  'French',\n  'Mexican',\n  'Israeli',\n  'Spanish',\n  'Tamil',\n  'Kannada'],\n 1970: ['Australian',\n  'Hindi',\n  'British',\n  'Cambodian',\n  'Malayalam',\n  'Telugu',\n  'Bangladeshi',\n  'Argentine',\n  'Italian',\n  'Canadian',\n  'Bengali',\n  'South_Korean',\n  'Brazilian',\n  'Egyptian',\n  'Pakistani',\n  'Soviet',\n  'Japanese',\n  'Ollywood',\n  'Marathi',\n  'Hong_Kong',\n  'American',\n  'Bollywood',\n  'French',\n  'Mexican',\n  'Israeli',\n  'Punjabi',\n  'Spanish',\n  'Tamil',\n  'Kannada',\n  'Turkish'],\n 1971: ['Australian',\n  'Hindi',\n  'British',\n  'Cambodian',\n  'Malayalam',\n  'Telugu',\n  'Bangladeshi',\n  'Argentine',\n  'Italian',\n  'Canadian',\n  'Bengali',\n  'South_Korean',\n  'Egyptian',\n  'Pakistani',\n  'Soviet',\n  'Japanese',\n  'Ollywood',\n  'Marathi',\n  'Hong_Kong',\n  'American',\n  'Bollywood',\n  'French',\n  'Mexican',\n  'Israeli',\n  'Spanish',\n  'Tamil',\n  'Kannada',\n  'Turkish'],\n 1972: ['Australian',\n  'Hindi',\n  'British',\n  'Cambodian',\n  'Malayalam',\n  'Telugu',\n  'Bangladeshi',\n  'Argentine',\n  'Italian',\n  'Canadian',\n  'South_Korean',\n  'Egyptian',\n  'Pakistani',\n  'Soviet',\n  'Japanese',\n  'Ollywood',\n  'Marathi',\n  'Hong_Kong',\n  'American',\n  'Bollywood',\n  'French',\n  'Mexican',\n  'Israeli',\n  'Punjabi',\n  'Spanish',\n  'Tamil',\n  'Kannada',\n  'Turkish'],\n 1973: ['Australian',\n  'Hindi',\n  'British',\n  'Cambodian',\n  'Malayalam',\n  'Telugu',\n  'Bangladeshi',\n  'Argentine',\n  'Italian',\n  'Canadian',\n  'Bengali',\n  'South_Korean',\n  'Pakistani',\n  'Soviet',\n  'Japanese',\n  'Ollywood',\n  'Marathi',\n  'Hong_Kong',\n  'American',\n  'French',\n  'Mexican',\n  'Israeli',\n  'Punjabi',\n  'Spanish',\n  'Tamil',\n  'Kannada',\n  'Turkish'],\n 1974: ['Australian',\n  'Hindi',\n  'British',\n  'Cambodian',\n  'Malayalam',\n  'Telugu',\n  'Bangladeshi',\n  'Argentine',\n  'Italian',\n  'Canadian',\n  'South_Korean',\n  'Egyptian',\n  'Pakistani',\n  'Soviet',\n  'Japanese',\n  'Ollywood',\n  'Marathi',\n  'Hong_Kong',\n  'American',\n  'French',\n  'Mexican',\n  'Israeli',\n  'Punjabi',\n  'Spanish',\n  'Tamil',\n  'Kannada',\n  'Turkish'],\n 1975: ['Australian',\n  'Hindi',\n  'British',\n  'Malayalam',\n  'Telugu',\n  'Bangladeshi',\n  'Argentine',\n  'Italian',\n  'Canadian',\n  'South_Korean',\n  'Egyptian',\n  'Pakistani',\n  'Soviet',\n  'Japanese',\n  'Ollywood',\n  'Marathi',\n  'Hong_Kong',\n  'American',\n  'French',\n  'Mexican',\n  'Israeli',\n  'Punjabi',\n  'Spanish',\n  'Tamil',\n  'Kannada',\n  'Turkish'],\n 1976: ['Australian',\n  'Hindi',\n  'British',\n  'Malayalam',\n  'Telugu',\n  'Bangladeshi',\n  'Argentine',\n  'Italian',\n  'Canadian',\n  'South_Korean',\n  'Egyptian',\n  'Pakistani',\n  'Soviet',\n  'Japanese',\n  'Ollywood',\n  'Marathi',\n  'Hong_Kong',\n  'American',\n  'French',\n  'Mexican',\n  'Israeli',\n  'Punjabi',\n  'Spanish',\n  'Tamil',\n  'Kannada',\n  'Turkish'],\n 1977: ['Australian',\n  'Hindi',\n  'British',\n  'Malayalam',\n  'Telugu',\n  'Bangladeshi',\n  'Argentine',\n  'Italian',\n  'Canadian',\n  'South_Korean',\n  'Egyptian',\n  'Pakistani',\n  'Soviet',\n  'Japanese',\n  'Ollywood',\n  'Marathi',\n  'Hong_Kong',\n  'American',\n  'French',\n  'Mexican',\n  'Israeli',\n  'Punjabi',\n  'Spanish',\n  'Tamil',\n  'Kannada',\n  'Turkish'],\n 1978: ['Australian',\n  'Hindi',\n  'British',\n  'Malayalam',\n  'Telugu',\n  'Bangladeshi',\n  'Argentine',\n  'Italian',\n  'South_Korean',\n  'Egyptian',\n  'Pakistani',\n  'Soviet',\n  'Japanese',\n  'Ollywood',\n  'Marathi',\n  'Hong_Kong',\n  'American',\n  'French',\n  'Mexican',\n  'Israeli',\n  'Spanish',\n  'Tamil',\n  'Moroccan',\n  'Kannada',\n  'Turkish'],\n 1979: ['Australian',\n  'Hindi',\n  'British',\n  'Malayalam',\n  'Telugu',\n  'Bangladeshi',\n  'Argentine',\n  'Italian',\n  'Canadian',\n  'Bengali',\n  'South_Korean',\n  'Egyptian',\n  'Pakistani',\n  'Soviet',\n  'Japanese',\n  'Ollywood',\n  'Marathi',\n  'Hong_Kong',\n  'American',\n  'French',\n  'Mexican',\n  'Israeli',\n  'Spanish',\n  'Tamil',\n  'Kannada',\n  'Turkish'],\n 1980: ['Australian',\n  'Hindi',\n  'British',\n  'Malayalam',\n  'Telugu',\n  'Bangladeshi',\n  'Argentine',\n  'Italian',\n  'Canadian',\n  'Bengali',\n  'South_Korean',\n  'Brazilian',\n  'Egyptian',\n  'Pakistani',\n  'Soviet',\n  'Japanese',\n  'Ollywood',\n  'Marathi',\n  'Hong_Kong',\n  'American',\n  'Bollywood',\n  'French',\n  'Mexican',\n  'Israeli',\n  'Ghanaian',\n  'Spanish',\n  'Tamil',\n  'Kannada'],\n 1981: ['Australian',\n  'Hindi',\n  'British',\n  'Malayalam',\n  'Telugu',\n  'Bangladeshi',\n  'Argentine',\n  'Italian',\n  'Canadian',\n  'Bengali',\n  'South_Korean',\n  'Brazilian',\n  'Egyptian',\n  'Pakistani',\n  'Soviet',\n  'Japanese',\n  'Ollywood',\n  'Marathi',\n  'Hong_Kong',\n  'American',\n  'French',\n  'Mexican',\n  'Israeli',\n  'Punjabi',\n  'Spanish',\n  'Tamil',\n  'Moroccan',\n  'Kannada'],\n 1982: ['Australian',\n  'Hindi',\n  'British',\n  'Malayalam',\n  'Telugu',\n  'Argentine',\n  'Italian',\n  'Canadian',\n  'Bengali',\n  'South_Korean',\n  'Brazilian',\n  'Egyptian',\n  'Pakistani',\n  'Soviet',\n  'Japanese',\n  'Ollywood',\n  'Marathi',\n  'Hong_Kong',\n  'American',\n  'Bollywood',\n  'French',\n  'Mexican',\n  'Israeli',\n  'Spanish',\n  'Tamil',\n  'Kannada'],\n 1983: ['Australian',\n  'Hindi',\n  'British',\n  'Malayalam',\n  'Telugu',\n  'Argentine',\n  'Italian',\n  'Canadian',\n  'Bengali',\n  'South_Korean',\n  'Brazilian',\n  'Egyptian',\n  'Pakistani',\n  'Japanese',\n  'Ollywood',\n  'Marathi',\n  'Hong_Kong',\n  'American',\n  'Bollywood',\n  'French',\n  'Israeli',\n  'Spanish',\n  'Tamil',\n  'Kannada'],\n 1984: ['Australian',\n  'Hindi',\n  'British',\n  'Malayalam',\n  'Telugu',\n  'Argentine',\n  'Italian',\n  'Canadian',\n  'Bengali',\n  'South_Korean',\n  'Brazilian',\n  'Egyptian',\n  'Pakistani',\n  'Soviet',\n  'Japanese',\n  'Ollywood',\n  'Marathi',\n  'Hong_Kong',\n  'American',\n  'Bollywood',\n  'French',\n  'Mexican',\n  'Israeli',\n  'Spanish',\n  'Tamil',\n  'Kannada'],\n 1985: ['Australian',\n  'Hindi',\n  'British',\n  'Malayalam',\n  'Telugu',\n  'Argentine',\n  'Italian',\n  'Canadian',\n  'Bengali',\n  'South_Korean',\n  'Brazilian',\n  'Egyptian',\n  'Pakistani',\n  'Soviet',\n  'Japanese',\n  'Ollywood',\n  'Marathi',\n  'Hong_Kong',\n  'American',\n  'Bollywood',\n  'French',\n  'Mexican',\n  'Israeli',\n  'Spanish',\n  'Tamil',\n  'Kannada'],\n 1986: ['Australian',\n  'Hindi',\n  'British',\n  'Malayalam',\n  'Telugu',\n  'Argentine',\n  'Italian',\n  'Canadian',\n  'Bengali',\n  'South_Korean',\n  'Egyptian',\n  'Pakistani',\n  'Soviet',\n  'Japanese',\n  'Ollywood',\n  'Marathi',\n  'Hong_Kong',\n  'American',\n  'Bollywood',\n  'French',\n  'Mexican',\n  'Israeli',\n  'Spanish',\n  'Tamil',\n  'Kannada'],\n 1987: ['Australian',\n  'Hindi',\n  'British',\n  'Malayalam',\n  'Telugu',\n  'Argentine',\n  'Italian',\n  'Canadian',\n  'Bengali',\n  'South_Korean',\n  'Egyptian',\n  'Pakistani',\n  'Soviet',\n  'Japanese',\n  'Ollywood',\n  'Marathi',\n  'Hong_Kong',\n  'American',\n  'Bollywood',\n  'French',\n  'Mexican',\n  'Israeli',\n  'Spanish',\n  'Tamil',\n  'Kannada'],\n 1988: ['Australian',\n  'Hindi',\n  'British',\n  'Malayalam',\n  'Telugu',\n  'Argentine',\n  'Italian',\n  'Canadian',\n  'Bengali',\n  'South_Korean',\n  'Egyptian',\n  'Pakistani',\n  'Soviet',\n  'Japanese',\n  'Ollywood',\n  'Marathi',\n  'Hong_Kong',\n  'American',\n  'Bollywood',\n  'French',\n  'Mexican',\n  'Israeli',\n  'Spanish',\n  'Tamil',\n  'Kannada'],\n 1989: ['Australian',\n  'Hindi',\n  'British',\n  'Malayalam',\n  'Telugu',\n  'Argentine',\n  'Italian',\n  'Canadian',\n  'Bengali',\n  'South_Korean',\n  'Egyptian',\n  'Pakistani',\n  'Soviet',\n  'Japanese',\n  'Ollywood',\n  'Marathi',\n  'Hong_Kong',\n  'American',\n  'Bollywood',\n  'French',\n  'Mexican',\n  'Israeli',\n  'Spanish',\n  'Tamil',\n  'Kannada'],\n 1990: ['Australian',\n  'Hindi',\n  'British',\n  'Malayalam',\n  'Telugu',\n  'Bangladeshi',\n  'Argentine',\n  'Chinese',\n  'Italian',\n  'Canadian',\n  'Bengali',\n  'South_Korean',\n  'Egyptian',\n  'Pakistani',\n  'Soviet',\n  'Japanese',\n  'Ollywood',\n  'Marathi',\n  'Hong_Kong',\n  'American',\n  'French',\n  'Israeli',\n  'Spanish',\n  'Tamil',\n  'Kannada'],\n 1991: ['Australian',\n  'Hindi',\n  'British',\n  'Malayalam',\n  'Telugu',\n  'Bangladeshi',\n  'Argentine',\n  'Chinese',\n  'Italian',\n  'Canadian',\n  'Bengali',\n  'South_Korean',\n  'Egyptian',\n  'Pakistani',\n  'Soviet',\n  'Japanese',\n  'Ollywood',\n  'Marathi',\n  'Hong_Kong',\n  'American',\n  'French',\n  'Israeli',\n  'Spanish',\n  'Tamil',\n  'Kannada'],\n 1992: ['Australian',\n  'Hindi',\n  'British',\n  'Nigerian',\n  'Malayalam',\n  'Telugu',\n  'Bangladeshi',\n  'Argentine',\n  'Chinese',\n  'Italian',\n  'Canadian',\n  'Bengali',\n  'South_Korean',\n  'Egyptian',\n  'Pakistani',\n  'Japanese',\n  'Ollywood',\n  'Marathi',\n  'Hong_Kong',\n  'American',\n  'French',\n  'Maldivian',\n  'Israeli',\n  'Spanish',\n  'Tamil',\n  'Kannada'],\n 1993: ['Australian',\n  'Hindi',\n  'British',\n  'Nigerian',\n  'Malayalam',\n  'Telugu',\n  'Bangladeshi',\n  'Argentine',\n  'Chinese',\n  'Italian',\n  'Canadian',\n  'Bengali',\n  'South_Korean',\n  'Egyptian',\n  'Pakistani',\n  'Romanian',\n  'Japanese',\n  'Ollywood',\n  'Marathi',\n  'Hong_Kong',\n  'American',\n  'French',\n  'Maldivian',\n  'Israeli',\n  'Spanish',\n  'Tamil',\n  'Kannada'],\n 1994: ['Australian',\n  'Hindi',\n  'British',\n  'Nigerian',\n  'Malayalam',\n  'Telugu',\n  'Bangladeshi',\n  'Argentine',\n  'Chinese',\n  'Italian',\n  'Canadian',\n  'Bengali',\n  'South_Korean',\n  'Egyptian',\n  'Pakistani',\n  'Japanese',\n  'Ollywood',\n  'Marathi',\n  'Hong_Kong',\n  'American',\n  'Bollywood',\n  'French',\n  'Maldivian',\n  'Israeli',\n  'Spanish',\n  'Tamil',\n  'Kannada'],\n 1995: ['Australian',\n  'Hindi',\n  'British',\n  'Nigerian',\n  'Malayalam',\n  'Telugu',\n  'Bangladeshi',\n  'Argentine',\n  'Chinese',\n  'Italian',\n  'Canadian',\n  'Bengali',\n  'South_Korean',\n  'Egyptian',\n  'Pakistani',\n  'Japanese',\n  'Ollywood',\n  'Marathi',\n  'Hong_Kong',\n  'American',\n  'French',\n  'Maldivian',\n  'Israeli',\n  'Spanish',\n  'Tamil',\n  'Kannada'],\n 1996: ['Australian',\n  'Hindi',\n  'British',\n  'Nigerian',\n  'Malayalam',\n  'Telugu',\n  'Bangladeshi',\n  'Argentine',\n  'Chinese',\n  'Italian',\n  'Canadian',\n  'Bengali',\n  'South_Korean',\n  'Egyptian',\n  'Pakistani',\n  'Japanese',\n  'Ollywood',\n  'Marathi',\n  'Hong_Kong',\n  'American',\n  'French',\n  'Maldivian',\n  'Israeli',\n  'Spanish',\n  'Tamil',\n  'Kannada'],\n 1997: ['Australian',\n  'Hindi',\n  'British',\n  'Malayalam',\n  'Telugu',\n  'Bangladeshi',\n  'Argentine',\n  'Chinese',\n  'Italian',\n  'Canadian',\n  'Bengali',\n  'South_Korean',\n  'Egyptian',\n  'Pakistani',\n  'Japanese',\n  'Ollywood',\n  'Marathi',\n  'Hong_Kong',\n  'American',\n  'French',\n  'Maldivian',\n  'Israeli',\n  'Spanish',\n  'Tamil',\n  'Kannada'],\n 1998: ['Australian',\n  'Hindi',\n  'British',\n  'Malayalam',\n  'Telugu',\n  'Bangladeshi',\n  'Argentine',\n  'Chinese',\n  'Italian',\n  'Canadian',\n  'Bengali',\n  'South_Korean',\n  'Egyptian',\n  'Pakistani',\n  'Japanese',\n  'Ollywood',\n  'Marathi',\n  'Hong_Kong',\n  'American',\n  'Bollywood',\n  'French',\n  'Maldivian',\n  'Israeli',\n  'Spanish',\n  'Tamil',\n  'Kannada'],\n 1999: ['Australian',\n  'Hindi',\n  'British',\n  'Nigerian',\n  'Malayalam',\n  'Telugu',\n  'Bangladeshi',\n  'Argentine',\n  'Chinese',\n  'Italian',\n  'Canadian',\n  'Bengali',\n  'South_Korean',\n  'Egyptian',\n  'Pakistani',\n  'Japanese',\n  'Ollywood',\n  'Marathi',\n  'Hong_Kong',\n  'American',\n  'French',\n  'Maldivian',\n  'Israeli',\n  'Spanish',\n  'Tamil',\n  'Kannada'],\n 2000: ['Australian',\n  'Hindi',\n  'British',\n  'Cambodian',\n  'Nigerian',\n  'Malayalam',\n  'Portuguese',\n  'Telugu',\n  'Bangladeshi',\n  'Argentine',\n  'Chinese',\n  'Italian',\n  'Canadian',\n  'Bengali',\n  'South_Korean',\n  'Brazilian',\n  'Pakistani',\n  'Russian',\n  'Japanese',\n  'Ollywood',\n  'Marathi',\n  'Hong_Kong',\n  'American',\n  'French',\n  'Mexican',\n  'Maldivian',\n  'Israeli',\n  'Punjabi',\n  'Malaysian',\n  'Spanish',\n  'Tamil',\n  'Kannada'],\n 2001: ['Australian',\n  'Hindi',\n  'British',\n  'Cambodian',\n  'Nigerian',\n  'Malayalam',\n  'Portuguese',\n  'Telugu',\n  'Bangladeshi',\n  'Argentine',\n  'Chinese',\n  'Italian',\n  'Canadian',\n  'Bengali',\n  'South_Korean',\n  'Brazilian',\n  'Pakistani',\n  'Russian',\n  'Japanese',\n  'Ollywood',\n  'Marathi',\n  'Hong_Kong',\n  'American',\n  'French',\n  'Mexican',\n  'Maldivian',\n  'Nepalese',\n  'Israeli',\n  'Punjabi',\n  'Malaysian',\n  'Spanish',\n  'Tamil',\n  'Kannada'],\n 2002: ['Australian',\n  'Hindi',\n  'British',\n  'Cambodian',\n  'Nigerian',\n  'Malayalam',\n  'Portuguese',\n  'Telugu',\n  'Bangladeshi',\n  'Argentine',\n  'Chinese',\n  'Italian',\n  'Canadian',\n  'Bengali',\n  'South_Korean',\n  'Brazilian',\n  'Pakistani',\n  'Russian',\n  'Japanese',\n  'Ollywood',\n  'Marathi',\n  'Hong_Kong',\n  'American',\n  'French',\n  'Mexican',\n  'Maldivian',\n  'Nepalese',\n  'Israeli',\n  'Punjabi',\n  'Malaysian',\n  'Spanish',\n  'Tamil',\n  'Kannada'],\n 2003: ['Australian',\n  'Hindi',\n  'British',\n  'Cambodian',\n  'Nigerian',\n  'Malayalam',\n  'Portuguese',\n  'Telugu',\n  'Bangladeshi',\n  'Argentine',\n  'Chinese',\n  'Italian',\n  'Canadian',\n  'Bengali',\n  'South_Korean',\n  'Brazilian',\n  'Pakistani',\n  'Russian',\n  'Japanese',\n  'Ollywood',\n  'Marathi',\n  'Hong_Kong',\n  'American',\n  'Bollywood',\n  'French',\n  'Mexican',\n  'Maldivian',\n  'Israeli',\n  'Punjabi',\n  'Malaysian',\n  'Spanish',\n  'Tamil',\n  'Kannada'],\n 2004: ['Australian',\n  'Hindi',\n  'British',\n  'Cambodian',\n  'Nigerian',\n  'Malayalam',\n  'Portuguese',\n  'Telugu',\n  'Bangladeshi',\n  'Argentine',\n  'Chinese',\n  'Italian',\n  'Canadian',\n  'Bengali',\n  'South_Korean',\n  'Brazilian',\n  'Pakistani',\n  'Russian',\n  'Japanese',\n  'Ollywood',\n  'Marathi',\n  'Hong_Kong',\n  'American',\n  'Bollywood',\n  'French',\n  'Mexican',\n  'Maldivian',\n  'Israeli',\n  'Punjabi',\n  'Malaysian',\n  'Spanish',\n  'Tamil',\n  'Kannada'],\n 2005: ['Australian',\n  'Hindi',\n  'British',\n  'Cambodian',\n  'Nigerian',\n  'Malayalam',\n  'Portuguese',\n  'Telugu',\n  'Bangladeshi',\n  'Argentine',\n  'Chinese',\n  'Italian',\n  'Canadian',\n  'Bengali',\n  'South_Korean',\n  'Brazilian',\n  'Pakistani',\n  'Russian',\n  'Japanese',\n  'Ollywood',\n  'Marathi',\n  'Hong_Kong',\n  'American',\n  'Bollywood',\n  'French',\n  'Mexican',\n  'Maldivian',\n  'Israeli',\n  'Punjabi',\n  'Malaysian',\n  'Spanish',\n  'Tamil',\n  'Kannada'],\n 2006: ['Australian',\n  'Hindi',\n  'British',\n  'Cambodian',\n  'Nigerian',\n  'Malayalam',\n  'Portuguese',\n  'Telugu',\n  'Bangladeshi',\n  'Argentine',\n  'Chinese',\n  'Italian',\n  'Canadian',\n  'Bengali',\n  'South_Korean',\n  'Brazilian',\n  'Pakistani',\n  'Russian',\n  'Japanese',\n  'Ollywood',\n  'Marathi',\n  'Hong_Kong',\n  'American',\n  'Bollywood',\n  'French',\n  'Mexican',\n  'Maldivian',\n  'Israeli',\n  'Punjabi',\n  'Malaysian',\n  'Spanish',\n  'Tamil',\n  'Kannada'],\n 2007: ['Australian',\n  'Hindi',\n  'British',\n  'Cambodian',\n  'Nigerian',\n  'Malayalam',\n  'Portuguese',\n  'Telugu',\n  'Bangladeshi',\n  'Argentine',\n  'Chinese',\n  'Italian',\n  'Canadian',\n  'Bengali',\n  'South_Korean',\n  'Brazilian',\n  'Pakistani',\n  'Russian',\n  'Japanese',\n  'Ollywood',\n  'Marathi',\n  'Hong_Kong',\n  'American',\n  'Bollywood',\n  'French',\n  'Mexican',\n  'Maldivian',\n  'Israeli',\n  'Punjabi',\n  'Malaysian',\n  'Spanish',\n  'Tamil',\n  'Kannada',\n  'Turkish'],\n 2008: ['Australian',\n  'Hindi',\n  'British',\n  'Cambodian',\n  'Nigerian',\n  'Malayalam',\n  'Portuguese',\n  'Telugu',\n  'Bangladeshi',\n  'Argentine',\n  'Chinese',\n  'Italian',\n  'Canadian',\n  'Bengali',\n  'South_Korean',\n  'Brazilian',\n  'Pakistani',\n  'Romanian',\n  'Russian',\n  'Japanese',\n  'Ollywood',\n  'Marathi',\n  'Hong_Kong',\n  'American',\n  'Bollywood',\n  'French',\n  'Mexican',\n  'Maldivian',\n  'Israeli',\n  'Punjabi',\n  'Malaysian',\n  'Spanish',\n  'Tamil',\n  'Kannada',\n  'Turkish'],\n 2009: ['Australian',\n  'Hindi',\n  'British',\n  'Cambodian',\n  'Nigerian',\n  'Malayalam',\n  'Portuguese',\n  'Telugu',\n  'Bangladeshi',\n  'Argentine',\n  'Chinese',\n  'Italian',\n  'Canadian',\n  'Bengali',\n  'South_Korean',\n  'Brazilian',\n  'Pakistani',\n  'Romanian',\n  'Russian',\n  'Japanese',\n  'Ollywood',\n  'Marathi',\n  'Hong_Kong',\n  'American',\n  'Bollywood',\n  'French',\n  'Mexican',\n  'Maldivian',\n  'Israeli',\n  'Punjabi',\n  'Malaysian',\n  'Spanish',\n  'Tamil',\n  'Kannada',\n  'Turkish'],\n 2010: ['Australian',\n  'Hindi',\n  'British',\n  'Nigerian',\n  'Malayalam',\n  'Portuguese',\n  'Indian_Bengali',\n  'Telugu',\n  'Bangladeshi',\n  'Argentine',\n  'Chinese',\n  'Italian',\n  'Canadian',\n  'Bengali',\n  'South_Korean',\n  'Brazilian',\n  'Egyptian',\n  'Pakistani',\n  'Russian',\n  'Japanese',\n  'Ollywood',\n  'Marathi',\n  'Philippine',\n  'Hong_Kong',\n  'American',\n  'Bollywood',\n  'French',\n  'Mexican',\n  'Turkish',\n  'Singaporean',\n  'Maldivian',\n  'Israeli',\n  'Punjabi',\n  'Malaysian',\n  'Spanish',\n  'Tamil',\n  'Kannada',\n  'Odia'],\n 2011: ['Australian',\n  'Hindi',\n  'British',\n  'Nigerian',\n  'Malayalam',\n  'Portuguese',\n  'Indian_Bengali',\n  'Telugu',\n  'Bangladeshi',\n  'Argentine',\n  'Chinese',\n  'Italian',\n  'Canadian',\n  'Bengali',\n  'South_Korean',\n  'Brazilian',\n  'Pakistani',\n  'Russian',\n  'Japanese',\n  'Ollywood',\n  'Marathi',\n  'Philippine',\n  'Hong_Kong',\n  'American',\n  'Bollywood',\n  'French',\n  'Mexican',\n  'Turkish',\n  'Singaporean',\n  'Maldivian',\n  'Israeli',\n  'Punjabi',\n  'Malaysian',\n  'Spanish',\n  'Tamil',\n  'Kannada',\n  'Odia'],\n 2012: ['Australian',\n  'Hindi',\n  'British',\n  'Nigerian',\n  'Malayalam',\n  'Portuguese',\n  'Indian_Bengali',\n  'Telugu',\n  'Bangladeshi',\n  'Argentine',\n  'Chinese',\n  'Italian',\n  'Canadian',\n  'Bengali',\n  'South_Korean',\n  'Brazilian',\n  'Pakistani',\n  'Russian',\n  'Japanese',\n  'Ollywood',\n  'Marathi',\n  'Philippine',\n  'Hong_Kong',\n  'American',\n  'Bollywood',\n  'French',\n  'Mexican',\n  'Turkish',\n  'Singaporean',\n  'Israeli',\n  'Punjabi',\n  'Malaysian',\n  'Spanish',\n  'Tamil',\n  'Kannada',\n  'Odia'],\n 2013: ['Australian',\n  'British',\n  'Malayalam',\n  'Telugu',\n  'Argentine',\n  'Italian',\n  'Bengali',\n  'South_Korean',\n  'Brazilian',\n  'Pakistani',\n  'Russian',\n  'Japanese',\n  'Marathi',\n  'Hong_Kong',\n  'American',\n  'Bollywood',\n  'French',\n  'Mexican',\n  'Punjabi',\n  'Spanish',\n  'Tamil',\n  'Kannada',\n  'Odia'],\n 2014: ['German',\n  'Hindi',\n  'British',\n  'Malayalam',\n  'Bangladeshi',\n  'Argentine',\n  'Croatian',\n  'Dutch',\n  'Norwegian',\n  'Albanian',\n  'Pakistani',\n  'Jordanian',\n  'Kuwaiti',\n  'Russian',\n  'Montenegrin',\n  'Philippine',\n  'Hong_Kong',\n  'Faroese',\n  'Tajik',\n  'Mexican',\n  'Saudi_Arabian',\n  'Andorran',\n  'Punjabi',\n  'Tamil',\n  'Kannada',\n  'Iranian',\n  'Greek',\n  'Austrian',\n  'Turkmen',\n  'Czech',\n  'Kyrgyz',\n  'Indian_Bengali',\n  'Telugu',\n  'Bengali',\n  'Cypriot',\n  'Icelandic',\n  'Brazilian',\n  'Finnish',\n  'Maltese',\n  'Romanian',\n  'Ollywood',\n  'Afghan',\n  'American',\n  'Bollywood',\n  'Serbian',\n  'Singaporean',\n  'Israeli',\n  'Kazakh',\n  'Bosnian',\n  'Liechtensteiner',\n  'Swedish',\n  'Lebanese',\n  'Yemeni',\n  'Syrian',\n  'Hungarian',\n  'Bulgarian',\n  'Latvian',\n  'Slovene',\n  'Belgian',\n  'Estonian',\n  'Assamese',\n  'Italian',\n  'Irish',\n  'Canadian',\n  'South_Korean',\n  'Azerbaijani',\n  'Sammarinese',\n  'Uzbek',\n  'Japanese',\n  'Marathi',\n  'Vietnamese',\n  'French',\n  'Qatari',\n  'Bahraini',\n  'Swiss',\n  'Luxembourgish',\n  'Danish',\n  'African',\n  'Turkish',\n  'Tulu',\n  'Australian',\n  'Greenlandic',\n  'Nigerian',\n  'Portuguese',\n  'Moldovan',\n  'Chinese',\n  'Macedonian',\n  'Belarusian',\n  'Ukrainian',\n  'Kosovan',\n  'Armenian',\n  'Georgian',\n  'Polish',\n  'Emirati',\n  'Omani',\n  'Iraqi',\n  'Malaysian',\n  'Spanish',\n  'Palestinian'],\n 2015: ['Australian',\n  'Hindi',\n  'British',\n  'Nigerian',\n  'Malayalam',\n  'Portuguese',\n  'Indian_Bengali',\n  'Telugu',\n  'Bangladeshi',\n  'Argentine',\n  'Chinese',\n  'Assamese',\n  'Italian',\n  'Irish',\n  'Gujarati',\n  'Canadian',\n  'Bengali',\n  'South_Korean',\n  'Brazilian',\n  'Pakistani',\n  'Russian',\n  'Japanese',\n  'Ollywood',\n  'Marathi',\n  'Philippine',\n  'Hong_Kong',\n  'American',\n  'Bollywood',\n  'French',\n  'Mexican',\n  'Singaporean',\n  'Maldivian',\n  'Israeli',\n  'Punjabi',\n  'Malaysian',\n  'Spanish',\n  'Tamil',\n  'Kannada',\n  'Turkish',\n  'Tulu'],\n 2016: ['Australian',\n  'Hindi',\n  'British',\n  'Nigerian',\n  'Malayalam',\n  'Portuguese',\n  'Indian_Bengali',\n  'Telugu',\n  'Bangladeshi',\n  'Argentine',\n  'Chinese',\n  'Assamese',\n  'Italian',\n  'Gujarati',\n  'Canadian',\n  'Bengali',\n  'South_Korean',\n  'Pakistani',\n  'Romanian',\n  'Russian',\n  'Japanese',\n  'Ollywood',\n  'Marathi',\n  'Philippine',\n  'Hong_Kong',\n  'American',\n  'Bollywood',\n  'Polish',\n  'French',\n  'Mexican',\n  'Maldivian',\n  'Nepalese',\n  'Israeli',\n  'Punjabi',\n  'Malaysian',\n  'Spanish',\n  'Tamil',\n  'Kannada',\n  'Turkish',\n  'Tulu'],\n 2017: ['Australian',\n  'Hindi',\n  'British',\n  'Nigerian',\n  'Malayalam',\n  'Portuguese',\n  'Indian_Bengali',\n  'Telugu',\n  'Bangladeshi',\n  'Argentine',\n  'Chinese',\n  'Assamese',\n  'Gujarati',\n  'Canadian',\n  'Bengali',\n  'South_Korean',\n  'Brazilian',\n  'Egyptian',\n  'Pakistani',\n  'Russian',\n  'Japanese',\n  'Ollywood',\n  'Marathi',\n  'Philippine',\n  'Hong_Kong',\n  'American',\n  'Bollywood',\n  'Polish',\n  'French',\n  'Maldivian',\n  'Nepalese',\n  'Punjabi',\n  'Ghanaian',\n  'Malaysian',\n  'Spanish',\n  'Tamil',\n  'Kannada',\n  'Turkish',\n  'Tulu'],\n 2018: ['Australian',\n  'Hindi',\n  'British',\n  'Nigerian',\n  'Portuguese',\n  'Malayalam',\n  'Indian_Bengali',\n  'Telugu',\n  'Bangladeshi',\n  'Argentine',\n  'Chinese',\n  'Assamese',\n  'Canadian',\n  'Gujarati',\n  'South_Korean',\n  'Brazilian',\n  'Pakistani',\n  'Odia',\n  'Indian',\n  'Russian',\n  'Japanese',\n  'Marathi',\n  'Philippine',\n  'Hong_Kong',\n  'American',\n  'French',\n  'Maldivian',\n  'Punjabi',\n  'Ghanaian',\n  'Malaysian',\n  'Spanish',\n  'Tamil',\n  'Kannada',\n  'Turkish',\n  'Tulu'],\n 2019: ['Australian',\n  'Hindi',\n  'British',\n  'Nigerian',\n  'Portuguese',\n  'Malayalam',\n  'Indian_Bengali',\n  'Telugu',\n  'Bangladeshi',\n  'Argentine',\n  'Chinese',\n  'Assamese',\n  'Canadian',\n  'Gujarati',\n  'South_Korean',\n  'Brazilian',\n  'Pakistani',\n  'Indian',\n  'Russian',\n  'Japanese',\n  'Philippine',\n  'Marathi',\n  'Hong_Kong',\n  'American',\n  'French',\n  'Maldivian',\n  'Punjabi',\n  'Malaysian',\n  'Spanish',\n  'Tamil',\n  'Kannada',\n  'Odia',\n  'Tulu'],\n 2020: ['Australian',\n  'Hindi',\n  'British',\n  'Nigerian',\n  'Portuguese',\n  'Malayalam',\n  'Indian_Bengali',\n  'Telugu',\n  'Bangladeshi',\n  'Chinese',\n  'Assamese',\n  'Canadian',\n  'Gujarati',\n  'South_Korean',\n  'Pakistani',\n  'Indian',\n  'Russian',\n  'Japanese',\n  'Philippine',\n  'Marathi',\n  'Hong_Kong',\n  'American',\n  'French',\n  'Maldivian',\n  'Punjabi',\n  'Malaysian',\n  'Spanish',\n  'Tamil',\n  'Kannada',\n  'Tulu'],\n 2021: ['Australian',\n  'Hindi',\n  'British',\n  'Nigerian',\n  'Malayalam',\n  'Indian_Bengali',\n  'Telugu',\n  'Bangladeshi',\n  'Chinese',\n  'Canadian',\n  'Gujarati',\n  'South_Korean',\n  'Indian',\n  'Russian',\n  'Japanese',\n  'Philippine',\n  'Marathi',\n  'Hong_Kong',\n  'American',\n  'French',\n  'Maldivian',\n  'Punjabi',\n  'Spanish',\n  'Tamil',\n  'Kannada'],\n 2022: ['Australian',\n  'Hindi',\n  'British',\n  'Nigerian',\n  'Portuguese',\n  'Malayalam',\n  'Indian_Bengali',\n  'Telugu',\n  'Bangladeshi',\n  'Argentine',\n  'Chinese',\n  'Italian',\n  'Canadian',\n  'Gujarati',\n  'South_Korean',\n  'Brazilian',\n  'Pakistani',\n  'Indian',\n  'Russian',\n  'Japanese',\n  'Philippine',\n  'Marathi',\n  'Hong_Kong',\n  'American',\n  'French',\n  'Maldivian',\n  'Punjabi',\n  'Indonesian',\n  'Malaysian',\n  'Spanish',\n  'Tamil',\n  'Kannada',\n  'Odia']}"
     },
     "execution_count": 3,
     "metadata": {},
     "output_type": "execute_result"
    }
   ],
   "source": [
    "movie_years = range(1950, 2023)\n",
    "url_dict = {}\n",
    "for year in movie_years:\n",
    "    temp_list = []\n",
    "    url = urllib.request.urlopen(\"https://en.wikipedia.org/wiki/\" + str(year) + \"_in_film\")\n",
    "    content = url.read().decode()\n",
    "    temp_list = list(set(re.findall(\"/wiki/List_of_([A-Z][A-Za-z_]+)_films_of_\"+str(year), content)))\n",
    "    print(f\"Year: {year}, Found: {len(temp_list)}\")\n",
    "    url_dict[year] = temp_list\n",
    "url_dict"
   ],
   "metadata": {
    "collapsed": false
   }
  },
  {
   "cell_type": "markdown",
   "source": [
    "Convert result into DataFrame"
   ],
   "metadata": {
    "collapsed": false
   }
  },
  {
   "cell_type": "code",
   "execution_count": 4,
   "outputs": [
    {
     "data": {
      "text/plain": "      year    country\n0     1950      Hindi\n1     1950    British\n2     1950     Telugu\n3     1950  Argentine\n4     1950    Italian\n...    ...        ...\n2038  2022  Malaysian\n2039  2022    Spanish\n2040  2022      Tamil\n2041  2022    Kannada\n2042  2022       Odia\n\n[2043 rows x 2 columns]",
      "text/html": "<div>\n<style scoped>\n    .dataframe tbody tr th:only-of-type {\n        vertical-align: middle;\n    }\n\n    .dataframe tbody tr th {\n        vertical-align: top;\n    }\n\n    .dataframe thead th {\n        text-align: right;\n    }\n</style>\n<table border=\"1\" class=\"dataframe\">\n  <thead>\n    <tr style=\"text-align: right;\">\n      <th></th>\n      <th>year</th>\n      <th>country</th>\n    </tr>\n  </thead>\n  <tbody>\n    <tr>\n      <th>0</th>\n      <td>1950</td>\n      <td>Hindi</td>\n    </tr>\n    <tr>\n      <th>1</th>\n      <td>1950</td>\n      <td>British</td>\n    </tr>\n    <tr>\n      <th>2</th>\n      <td>1950</td>\n      <td>Telugu</td>\n    </tr>\n    <tr>\n      <th>3</th>\n      <td>1950</td>\n      <td>Argentine</td>\n    </tr>\n    <tr>\n      <th>4</th>\n      <td>1950</td>\n      <td>Italian</td>\n    </tr>\n    <tr>\n      <th>...</th>\n      <td>...</td>\n      <td>...</td>\n    </tr>\n    <tr>\n      <th>2038</th>\n      <td>2022</td>\n      <td>Malaysian</td>\n    </tr>\n    <tr>\n      <th>2039</th>\n      <td>2022</td>\n      <td>Spanish</td>\n    </tr>\n    <tr>\n      <th>2040</th>\n      <td>2022</td>\n      <td>Tamil</td>\n    </tr>\n    <tr>\n      <th>2041</th>\n      <td>2022</td>\n      <td>Kannada</td>\n    </tr>\n    <tr>\n      <th>2042</th>\n      <td>2022</td>\n      <td>Odia</td>\n    </tr>\n  </tbody>\n</table>\n<p>2043 rows × 2 columns</p>\n</div>"
     },
     "execution_count": 4,
     "metadata": {},
     "output_type": "execute_result"
    }
   ],
   "source": [
    "to_df = []\n",
    "for year in movie_years:\n",
    "    for country in url_dict[year]:\n",
    "        to_df.append((year, country))\n",
    "df = pd.DataFrame(to_df, columns=[\"year\", \"country\"])\n",
    "df"
   ],
   "metadata": {
    "collapsed": false
   }
  },
  {
   "cell_type": "markdown",
   "source": [
    "Have quick look at the data summary"
   ],
   "metadata": {
    "collapsed": false
   }
  },
  {
   "cell_type": "code",
   "execution_count": 5,
   "outputs": [
    {
     "data": {
      "text/plain": "              count\ncountry            \nJapanese         73\nSouth_Korean     73\nFrench           72\nTamil            72\nAmerican         72\n...             ...\nIcelandic         1\nHungarian         1\nGreenlandic       1\nGreek             1\nYemeni            1\n\n[111 rows x 1 columns]",
      "text/html": "<div>\n<style scoped>\n    .dataframe tbody tr th:only-of-type {\n        vertical-align: middle;\n    }\n\n    .dataframe tbody tr th {\n        vertical-align: top;\n    }\n\n    .dataframe thead th {\n        text-align: right;\n    }\n</style>\n<table border=\"1\" class=\"dataframe\">\n  <thead>\n    <tr style=\"text-align: right;\">\n      <th></th>\n      <th>count</th>\n    </tr>\n    <tr>\n      <th>country</th>\n      <th></th>\n    </tr>\n  </thead>\n  <tbody>\n    <tr>\n      <th>Japanese</th>\n      <td>73</td>\n    </tr>\n    <tr>\n      <th>South_Korean</th>\n      <td>73</td>\n    </tr>\n    <tr>\n      <th>French</th>\n      <td>72</td>\n    </tr>\n    <tr>\n      <th>Tamil</th>\n      <td>72</td>\n    </tr>\n    <tr>\n      <th>American</th>\n      <td>72</td>\n    </tr>\n    <tr>\n      <th>...</th>\n      <td>...</td>\n    </tr>\n    <tr>\n      <th>Icelandic</th>\n      <td>1</td>\n    </tr>\n    <tr>\n      <th>Hungarian</th>\n      <td>1</td>\n    </tr>\n    <tr>\n      <th>Greenlandic</th>\n      <td>1</td>\n    </tr>\n    <tr>\n      <th>Greek</th>\n      <td>1</td>\n    </tr>\n    <tr>\n      <th>Yemeni</th>\n      <td>1</td>\n    </tr>\n  </tbody>\n</table>\n<p>111 rows × 1 columns</p>\n</div>"
     },
     "execution_count": 5,
     "metadata": {},
     "output_type": "execute_result"
    }
   ],
   "source": [
    "df.groupby(by=[\"country\"]).count().sort_values(by='year',ascending=False).rename(columns={'year':'count'})"
   ],
   "metadata": {
    "collapsed": false
   }
  },
  {
   "cell_type": "markdown",
   "source": [
    "Insert data into sqlite"
   ],
   "metadata": {
    "collapsed": false
   }
  },
  {
   "cell_type": "code",
   "execution_count": 1,
   "outputs": [
    {
     "ename": "NameError",
     "evalue": "name 'df' is not defined",
     "output_type": "error",
     "traceback": [
      "\u001B[1;31m---------------------------------------------------------------------------\u001B[0m",
      "\u001B[1;31mNameError\u001B[0m                                 Traceback (most recent call last)",
      "\u001B[1;32m~\\AppData\\Local\\Temp\\ipykernel_25052\\3659558771.py\u001B[0m in \u001B[0;36m<module>\u001B[1;34m\u001B[0m\n\u001B[0;32m      1\u001B[0m \u001B[1;32mimport\u001B[0m \u001B[0msqlite3\u001B[0m\u001B[1;33m\u001B[0m\u001B[1;33m\u001B[0m\u001B[0m\n\u001B[0;32m      2\u001B[0m \u001B[0mcon\u001B[0m \u001B[1;33m=\u001B[0m \u001B[0msqlite3\u001B[0m\u001B[1;33m.\u001B[0m\u001B[0mconnect\u001B[0m\u001B[1;33m(\u001B[0m\u001B[1;34m\"database\"\u001B[0m\u001B[1;33m)\u001B[0m\u001B[1;33m\u001B[0m\u001B[1;33m\u001B[0m\u001B[0m\n\u001B[1;32m----> 3\u001B[1;33m \u001B[0mdf\u001B[0m\u001B[1;33m.\u001B[0m\u001B[0mto_sql\u001B[0m\u001B[1;33m(\u001B[0m\u001B[1;34m'movie_lists'\u001B[0m\u001B[1;33m,\u001B[0m \u001B[0mcon\u001B[0m\u001B[1;33m=\u001B[0m\u001B[0mcon\u001B[0m\u001B[1;33m,\u001B[0m \u001B[0mif_exists\u001B[0m\u001B[1;33m=\u001B[0m\u001B[1;34m'append'\u001B[0m\u001B[1;33m,\u001B[0m \u001B[0mindex\u001B[0m\u001B[1;33m=\u001B[0m\u001B[1;32mFalse\u001B[0m\u001B[1;33m)\u001B[0m\u001B[1;33m\u001B[0m\u001B[1;33m\u001B[0m\u001B[0m\n\u001B[0m",
      "\u001B[1;31mNameError\u001B[0m: name 'df' is not defined"
     ]
    }
   ],
   "source": [
    "import sqlite3\n",
    "con = sqlite3.connect(\"database\")\n",
    "df.to_sql('movie_lists', con=con, if_exists='append', index=False)"
   ],
   "metadata": {
    "collapsed": false
   }
  }
 ],
 "metadata": {
  "kernelspec": {
   "display_name": "Python 3",
   "language": "python",
   "name": "python3"
  },
  "language_info": {
   "codemirror_mode": {
    "name": "ipython",
    "version": 2
   },
   "file_extension": ".py",
   "mimetype": "text/x-python",
   "name": "python",
   "nbconvert_exporter": "python",
   "pygments_lexer": "ipython2",
   "version": "2.7.6"
  }
 },
 "nbformat": 4,
 "nbformat_minor": 0
}
